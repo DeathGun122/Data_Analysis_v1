{
 "cells": [
  {
   "cell_type": "code",
   "execution_count": 1,
   "id": "38e165b7",
   "metadata": {},
   "outputs": [],
   "source": [
    "import numpy as np\n",
    "from scipy import stats"
   ]
  },
  {
   "cell_type": "code",
   "execution_count": 2,
   "id": "a55dabd0",
   "metadata": {},
   "outputs": [],
   "source": [
    "group_A = [85, 88, 90, 92, 87, 85, 89, 91, 86, 88]\n",
    "group_B = [82, 84, 80, 83, 81, 79, 78, 85, 84, 83]"
   ]
  },
  {
   "cell_type": "code",
   "execution_count": 3,
   "id": "98dcb006",
   "metadata": {},
   "outputs": [],
   "source": [
    "mean_A = np.mean(group_A)\n",
    "mean_B = np.mean(group_B)\n",
    "\n",
    "std_A = np.std(group_A, ddof=1)\n",
    "std_B = np.std(group_B, ddof=1)\n",
    "\n",
    "n_A = len(group_A)\n",
    "n_B = len(group_B)"
   ]
  },
  {
   "cell_type": "code",
   "execution_count": 4,
   "id": "00702990",
   "metadata": {},
   "outputs": [
    {
     "name": "stdout",
     "output_type": "stream",
     "text": [
      "t-statistic: 5.829604009507161\n",
      "p-value: 1.610475598965881e-05\n"
     ]
    }
   ],
   "source": [
    "t_stats , p_value = stats.ttest_ind(group_A, group_B, equal_var=False)\n",
    "\n",
    "print(\"t-statistic:\", t_stats)\n",
    "print(\"p-value:\", p_value)"
   ]
  },
  {
   "cell_type": "code",
   "execution_count": 5,
   "id": "c81bbfe1",
   "metadata": {},
   "outputs": [
    {
     "name": "stdout",
     "output_type": "stream",
     "text": [
      "Reject the null hypothesis\n"
     ]
    }
   ],
   "source": [
    "if p_value < 0.05:\n",
    "    print(\"Reject the null hypothesis\")\n",
    "else:\n",
    "    print(\"Fail to reject the null hypothesis\")"
   ]
  },
  {
   "cell_type": "code",
   "execution_count": null,
   "id": "2f450671",
   "metadata": {},
   "outputs": [],
   "source": []
  }
 ],
 "metadata": {
  "kernelspec": {
   "display_name": "base",
   "language": "python",
   "name": "python3"
  },
  "language_info": {
   "codemirror_mode": {
    "name": "ipython",
    "version": 3
   },
   "file_extension": ".py",
   "mimetype": "text/x-python",
   "name": "python",
   "nbconvert_exporter": "python",
   "pygments_lexer": "ipython3",
   "version": "3.12.7"
  }
 },
 "nbformat": 4,
 "nbformat_minor": 5
}
